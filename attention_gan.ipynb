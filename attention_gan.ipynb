{
  "nbformat": 4,
  "nbformat_minor": 0,
  "metadata": {
    "colab": {
      "provenance": [],
      "toc_visible": true
    },
    "kernelspec": {
      "name": "python3",
      "display_name": "Python 3"
    },
    "language_info": {
      "name": "python"
    }
  },
  "cells": [
    {
      "cell_type": "code",
      "execution_count": 3,
      "metadata": {
        "colab": {
          "base_uri": "https://localhost:8080/"
        },
        "id": "Ba4GvxoZb2dl",
        "outputId": "b3bd12bb-fae6-449e-df76-a69e3a767647"
      },
      "outputs": [
        {
          "output_type": "stream",
          "name": "stdout",
          "text": [
            "Output shape: torch.Size([4, 3, 8, 8])\n"
          ]
        }
      ],
      "source": [
        "\n",
        "import torch\n",
        "import torch.nn as nn\n",
        "\n",
        "# Self-Attention Module\n",
        "class SelfAttention(nn.Module):\n",
        "    def __init__(self, in_dim):\n",
        "        super().__init__()\n",
        "        self.query = nn.Conv2d(in_dim, in_dim // 8, 1)\n",
        "        self.key = nn.Conv2d(in_dim, in_dim // 8, 1)\n",
        "        self.value = nn.Conv2d(in_dim, in_dim, 1)\n",
        "        self.gamma = nn.Parameter(torch.zeros(1))\n",
        "\n",
        "    def forward(self, x):\n",
        "        B, C, H, W = x.size()\n",
        "        q = self.query(x).view(B, -1, H*W).permute(0, 2, 1)\n",
        "        k = self.key(x).view(B, -1, H*W)\n",
        "        attn = torch.bmm(q, k)\n",
        "        attn = torch.softmax(attn, dim=-1)\n",
        "        v = self.value(x).view(B, -1, H*W)\n",
        "        out = torch.bmm(v, attn.permute(0, 2, 1)).view(B, C, H, W)\n",
        "        return self.gamma * out + x\n",
        "\n",
        "# Simple Generator using Attention\n",
        "class Generator(nn.Module):\n",
        "    def __init__(self):\n",
        "        super().__init__()\n",
        "        self.main = nn.Sequential(\n",
        "            nn.ConvTranspose2d(100, 64, 4, 1, 0),\n",
        "            nn.BatchNorm2d(64),\n",
        "            nn.ReLU(True),\n",
        "            SelfAttention(64),\n",
        "            nn.ConvTranspose2d(64, 3, 4, 2, 1),\n",
        "            nn.Tanh()\n",
        "        )\n",
        "\n",
        "    def forward(self, input):\n",
        "        return self.main(input)\n",
        "\n",
        "# Test Generator output\n",
        "noise = torch.randn(4, 100, 1, 1)\n",
        "G = Generator()\n",
        "output = G(noise)\n",
        "print(\"Output shape:\", output.shape)\n"
      ]
    }
  ]
}